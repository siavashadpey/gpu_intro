{
  "nbformat": 4,
  "nbformat_minor": 0,
  "metadata": {
    "colab": {
      "name": "cs179.ipynb",
      "provenance": [],
      "authorship_tag": "ABX9TyNKng5rFzPyHxPhOopP4+78",
      "include_colab_link": true
    },
    "kernelspec": {
      "name": "python3",
      "display_name": "Python 3"
    },
    "accelerator": "GPU"
  },
  "cells": [
    {
      "cell_type": "markdown",
      "metadata": {
        "id": "view-in-github",
        "colab_type": "text"
      },
      "source": [
        "<a href=\"https://colab.research.google.com/github/siavashadpey/gpu_intro/blob/master/cs179.ipynb\" target=\"_parent\"><img src=\"https://colab.research.google.com/assets/colab-badge.svg\" alt=\"Open In Colab\"/></a>"
      ]
    },
    {
      "cell_type": "markdown",
      "metadata": {
        "id": "xy8TSbnwv0Cw",
        "colab_type": "text"
      },
      "source": [
        "We run the code for CS179 on Google colab's GPU using this file."
      ]
    },
    {
      "cell_type": "code",
      "metadata": {
        "id": "PfvSX7uATtYb",
        "colab_type": "code",
        "colab": {}
      },
      "source": [
        "!sudo apt-get install cuda-10.1"
      ],
      "execution_count": null,
      "outputs": []
    },
    {
      "cell_type": "code",
      "metadata": {
        "id": "Q4bxpweeBx8f",
        "colab_type": "code",
        "colab": {}
      },
      "source": [
        "!export PATH=/usr/local/cuda-10.1/bin${PATH:+:${PATH}}\n",
        "!export LD_LIBRARY_PATH=/usr/local/cuda-10.1/lib64\n",
        "!export LIBRARY_PATH=$LIBRARY_PATH:/usr/local/cuda-10.1/lib64"
      ],
      "execution_count": 69,
      "outputs": []
    },
    {
      "cell_type": "code",
      "metadata": {
        "id": "_mvRQLKK_0s7",
        "colab_type": "code",
        "colab": {}
      },
      "source": [
        "%cd /content\n",
        "%rm -fr gpu_intro\n",
        "!git clone https://github.com/siavashadpey/gpu_intro.git"
      ],
      "execution_count": null,
      "outputs": []
    },
    {
      "cell_type": "code",
      "metadata": {
        "id": "U220cePw_1Rm",
        "colab_type": "code",
        "colab": {}
      },
      "source": [
        "%cd /content\n",
        "%cd gpu_intro/lab1"
      ],
      "execution_count": null,
      "outputs": []
    },
    {
      "cell_type": "code",
      "metadata": {
        "id": "b7VoXxYwBPov",
        "colab_type": "code",
        "colab": {}
      },
      "source": [
        "!make clean\n",
        "!make all"
      ],
      "execution_count": null,
      "outputs": []
    },
    {
      "cell_type": "code",
      "metadata": {
        "id": "C7P86K0-DImK",
        "colab_type": "code",
        "colab": {}
      },
      "source": [
        "!ls /usr/local/cuda-10.1/targets/x86_64-linux/lib/libcudart*"
      ],
      "execution_count": null,
      "outputs": []
    },
    {
      "cell_type": "code",
      "metadata": {
        "id": "wBEB8wS_VBtR",
        "colab_type": "code",
        "colab": {}
      },
      "source": [
        "!nvcc --version\n",
        "!nvidia-smi"
      ],
      "execution_count": null,
      "outputs": []
    },
    {
      "cell_type": "code",
      "metadata": {
        "id": "Ijz8tCLpBYSj",
        "colab_type": "code",
        "colab": {
          "base_uri": "https://localhost:8080/",
          "height": 595
        },
        "outputId": "eb759882-a3b9-4b46-b017-0175b268cf81"
      },
      "source": [
        "!./noaudio-blur 512 200"
      ],
      "execution_count": 50,
      "outputs": [
        {
          "output_type": "stream",
          "text": [
            "Normalized by factor of: 0.964579\n",
            "gaussian[0] = 0.0111947\n",
            "gaussian[1] = 0.0163699\n",
            "gaussian[2] = 0.0229988\n",
            "gaussian[3] = 0.0310452\n",
            "gaussian[4] = 0.0402634\n",
            "gaussian[5] = 0.0501713\n",
            "gaussian[6] = 0.0600659\n",
            "gaussian[7] = 0.0690923\n",
            "gaussian[8] = 0.0763588\n",
            "gaussian[9] = 0.0810805\n",
            "gaussian[10] = 0.0827185\n",
            "gaussian[11] = 0.0810805\n",
            "gaussian[12] = 0.0763588\n",
            "gaussian[13] = 0.0690923\n",
            "gaussian[14] = 0.0600659\n",
            "gaussian[15] = 0.0501713\n",
            "gaussian[16] = 0.0402634\n",
            "gaussian[17] = 0.0310452\n",
            "gaussian[18] = 0.0229988\n",
            "gaussian[19] = 0.0163699\n",
            "gaussian[20] = 0.0111947\n",
            "CPU blurring...\n",
            "GPU blurring...\n",
            "No kernel error detected\n",
            "nframes: 10000000nblocks: 200Comparing...\n",
            "\n",
            "Successful output\n",
            "\n",
            "CPU time: 655.198 milliseconds\n",
            "GPU time: 39.9436 milliseconds\n",
            "\n",
            "Speedup factor: 16.4031\n",
            "\n"
          ],
          "name": "stdout"
        }
      ]
    },
    {
      "cell_type": "code",
      "metadata": {
        "id": "sguz9qZJW08t",
        "colab_type": "code",
        "colab": {
          "base_uri": "https://localhost:8080/",
          "height": 799
        },
        "outputId": "58f55ccd-c964-4d00-d210-3c7b0cb8683a"
      },
      "source": [
        "!./audio-blur 512 200 ./resources/example_test.wav ./resources/example_test_out.wav"
      ],
      "execution_count": 51,
      "outputs": [
        {
          "output_type": "stream",
          "text": [
            "Normalized by factor of: 0.964579\n",
            "gaussian[0] = 0.0111947\n",
            "gaussian[1] = 0.0163699\n",
            "gaussian[2] = 0.0229988\n",
            "gaussian[3] = 0.0310452\n",
            "gaussian[4] = 0.0402634\n",
            "gaussian[5] = 0.0501713\n",
            "gaussian[6] = 0.0600659\n",
            "gaussian[7] = 0.0690923\n",
            "gaussian[8] = 0.0763588\n",
            "gaussian[9] = 0.0810805\n",
            "gaussian[10] = 0.0827185\n",
            "gaussian[11] = 0.0810805\n",
            "gaussian[12] = 0.0763588\n",
            "gaussian[13] = 0.0690923\n",
            "gaussian[14] = 0.0600659\n",
            "gaussian[15] = 0.0501713\n",
            "gaussian[16] = 0.0402634\n",
            "gaussian[17] = 0.0310452\n",
            "gaussian[18] = 0.0229988\n",
            "gaussian[19] = 0.0163699\n",
            "gaussian[20] = 0.0111947\n",
            "CPU blurring...\n",
            "GPU blurring...\n",
            "No kernel error detected\n",
            "nframes: 1151512nblocks: 200Comparing...\n",
            "\n",
            "Successful output\n",
            "\n",
            "CPU time: 78.8469 milliseconds\n",
            "GPU time: 5.18787 milliseconds\n",
            "\n",
            "Speedup factor: 15.1983\n",
            "\n",
            "CPU blurring...\n",
            "GPU blurring...\n",
            "No kernel error detected\n",
            "nframes: 1151512nblocks: 200Comparing...\n",
            "\n",
            "Successful output\n",
            "\n",
            "CPU time: 80.1944 milliseconds\n",
            "GPU time: 2.94586 milliseconds\n",
            "\n",
            "Speedup factor: 27.2228\n",
            "\n"
          ],
          "name": "stdout"
        }
      ]
    },
    {
      "cell_type": "code",
      "metadata": {
        "id": "JNvYYRxLcXO9",
        "colab_type": "code",
        "colab": {}
      },
      "source": [
        "%cd /content/gpu_intro/lab2"
      ],
      "execution_count": null,
      "outputs": []
    },
    {
      "cell_type": "code",
      "metadata": {
        "id": "09TflUFKcaGG",
        "colab_type": "code",
        "colab": {}
      },
      "source": [
        "!make all"
      ],
      "execution_count": null,
      "outputs": []
    },
    {
      "cell_type": "code",
      "metadata": {
        "id": "yn5Yfn71ceaw",
        "colab_type": "code",
        "colab": {
          "base_uri": "https://localhost:8080/",
          "height": 425
        },
        "outputId": "ad13d5d3-8a67-45f2-8cc0-ae2fda31f093"
      },
      "source": [
        "!./transpose"
      ],
      "execution_count": 54,
      "outputs": [
        {
          "output_type": "stream",
          "text": [
            "Size 512 naive CPU: 0.697088 ms\n",
            "Size 512 GPU memcpy: 0.031360 ms\n",
            "Size 512 naive GPU: 0.071680 ms\n",
            "Size 512 shmem GPU: 0.020000 ms\n",
            "Size 512 optimal GPU: 0.017248 ms\n",
            "\n",
            "Size 1024 naive CPU: 4.051264 ms\n",
            "Size 1024 GPU memcpy: 0.049536 ms\n",
            "Size 1024 naive GPU: 0.209504 ms\n",
            "Size 1024 shmem GPU: 0.049184 ms\n",
            "Size 1024 optimal GPU: 0.045024 ms\n",
            "\n",
            "Size 2048 naive CPU: 42.006401 ms\n",
            "Size 2048 GPU memcpy: 0.162016 ms\n",
            "Size 2048 naive GPU: 0.753056 ms\n",
            "Size 2048 shmem GPU: 0.161760 ms\n",
            "Size 2048 optimal GPU: 0.158400 ms\n",
            "\n",
            "Size 4096 naive CPU: 234.220673 ms\n",
            "Size 4096 GPU memcpy: 0.573440 ms\n",
            "Size 4096 naive GPU: 2.927520 ms\n",
            "Size 4096 shmem GPU: 0.624640 ms\n",
            "Size 4096 optimal GPU: 0.631392 ms\n",
            "\n"
          ],
          "name": "stdout"
        }
      ]
    },
    {
      "cell_type": "code",
      "metadata": {
        "id": "lbUmXBYFcjSm",
        "colab_type": "code",
        "colab": {}
      },
      "source": [
        "%cd /content/gpu_intro/lab3"
      ],
      "execution_count": null,
      "outputs": []
    },
    {
      "cell_type": "code",
      "metadata": {
        "id": "fnP2vm6CclVE",
        "colab_type": "code",
        "colab": {}
      },
      "source": [
        "!make all"
      ],
      "execution_count": null,
      "outputs": []
    },
    {
      "cell_type": "code",
      "metadata": {
        "id": "GugVkryyc-Pu",
        "colab_type": "code",
        "colab": {
          "base_uri": "https://localhost:8080/",
          "height": 1000
        },
        "outputId": "824c4c93-be82-4ecf-ed06-4e269b7aad11"
      },
      "source": [
        "!./noaudio-fft 512 200"
      ],
      "execution_count": 57,
      "outputs": [
        {
          "output_type": "stream",
          "text": [
            "Index of the GPU with the lowest temperature: 0 (0 C)\n",
            "\n",
            "N (number of samples per channel):    10000000\n",
            "\n",
            "Impulse length (number of samples per channel):    2001\n",
            "\n",
            "CPU convolution...\n",
            "GPU convolution...\n",
            "No kernel error detected\n",
            "Comparing...\n",
            "\n",
            "Successful output\n",
            "\n",
            "CPU time (convolve): 59947.7 milliseconds\n",
            "GPU time (convolve): 1882.1 milliseconds\n",
            "\n",
            "Speedup factor (convolution): 31.8514\n",
            "\n",
            "\n",
            "CPU normalization...\n",
            "GPU normalization...\n",
            "No kernel error detected\n",
            "No kernel error detected\n",
            "\n",
            "CPU normalization constant: 0.504522\n",
            "GPU normalization constant: 0.504522\n",
            "\n",
            "CPU time (normalization): 63.268 milliseconds\n",
            "GPU time (normalization): 1.92803 milliseconds\n",
            "\n",
            "Speedup factor (normalization): 32.8148\n",
            "\n",
            "\n",
            "\n",
            "\n",
            "CPU convolution...\n",
            "GPU convolution...\n",
            "No kernel error detected\n",
            "Comparing...\n",
            "\n",
            "Successful output\n",
            "\n",
            "CPU time (convolve): 59699 milliseconds\n",
            "GPU time (convolve): 576.757 milliseconds\n",
            "\n",
            "Speedup factor (convolution): 103.508\n",
            "\n",
            "\n",
            "CPU normalization...\n",
            "GPU normalization...\n",
            "No kernel error detected\n",
            "No kernel error detected\n",
            "\n",
            "CPU normalization constant: 0.502063\n",
            "GPU normalization constant: 0.502063\n",
            "\n",
            "CPU time (normalization): 62.5022 milliseconds\n",
            "GPU time (normalization): 1.47459 milliseconds\n",
            "\n",
            "Speedup factor (normalization): 42.3861\n",
            "\n",
            "\n",
            "\n"
          ],
          "name": "stdout"
        }
      ]
    },
    {
      "cell_type": "code",
      "metadata": {
        "id": "9Vz7cRDjdtxc",
        "colab_type": "code",
        "colab": {
          "base_uri": "https://localhost:8080/",
          "height": 1000
        },
        "outputId": "ea1ad2d4-f622-44e6-e482-d2d230c04bcf"
      },
      "source": [
        "!./audio-fft 512 200 resources/example_testfile.wav resources/silo_small.wav resources/examples_testfile_silo_out.wav"
      ],
      "execution_count": 58,
      "outputs": [
        {
          "output_type": "stream",
          "text": [
            "Index of the GPU with the lowest temperature: 0 (0 C)\n",
            "\n",
            "N (number of samples per channel):    1375413\n",
            "\n",
            "Impulse length (number of samples per channel):    1014\n",
            "\n",
            "CPU convolution...\n",
            "GPU convolution...\n",
            "No kernel error detected\n",
            "Comparing...\n",
            "\n",
            "Successful output\n",
            "\n",
            "CPU time (convolve): 4134.68 milliseconds\n",
            "GPU time (convolve): 518.895 milliseconds\n",
            "\n",
            "Speedup factor (convolution): 7.96823\n",
            "\n",
            "\n",
            "CPU normalization...\n",
            "GPU normalization...\n",
            "No kernel error detected\n",
            "No kernel error detected\n",
            "\n",
            "CPU normalization constant: 6.75524\n",
            "GPU normalization constant: 6.75524\n",
            "\n",
            "CPU time (normalization): 8.95565 milliseconds\n",
            "GPU time (normalization): 0.448096 milliseconds\n",
            "\n",
            "Speedup factor (normalization): 19.986\n",
            "\n",
            "\n",
            "\n",
            "\n",
            "CPU convolution...\n",
            "GPU convolution...\n",
            "No kernel error detected\n",
            "Comparing...\n",
            "\n",
            "Successful output\n",
            "\n",
            "CPU time (convolve): 4161.25 milliseconds\n",
            "GPU time (convolve): 82.2365 milliseconds\n",
            "\n",
            "Speedup factor (convolution): 50.6009\n",
            "\n",
            "\n",
            "CPU normalization...\n",
            "GPU normalization...\n",
            "No kernel error detected\n",
            "No kernel error detected\n",
            "\n",
            "CPU normalization constant: 7.91163\n",
            "GPU normalization constant: 7.91163\n",
            "\n",
            "CPU time (normalization): 8.35917 milliseconds\n",
            "GPU time (normalization): 0.28848 milliseconds\n",
            "\n",
            "Speedup factor (normalization): 28.9766\n",
            "\n",
            "\n",
            "\n"
          ],
          "name": "stdout"
        }
      ]
    },
    {
      "cell_type": "code",
      "metadata": {
        "id": "tfYRxDkicszv",
        "colab_type": "code",
        "colab": {}
      },
      "source": [
        "%cd /content/gpu_intro/lab5/"
      ],
      "execution_count": null,
      "outputs": []
    },
    {
      "cell_type": "code",
      "metadata": {
        "id": "B43XbWjcc0RG",
        "colab_type": "code",
        "colab": {}
      },
      "source": [
        "%mkdir bin obj"
      ],
      "execution_count": 73,
      "outputs": []
    },
    {
      "cell_type": "code",
      "metadata": {
        "id": "RO_q-q_8d7UQ",
        "colab_type": "code",
        "colab": {}
      },
      "source": [
        "!make -B"
      ],
      "execution_count": null,
      "outputs": []
    },
    {
      "cell_type": "code",
      "metadata": {
        "id": "cIoue-yGd776",
        "colab_type": "code",
        "colab": {
          "base_uri": "https://localhost:8080/",
          "height": 1000
        },
        "outputId": "6fb23dbf-31e8-4fdd-9321-af53960b5a8e"
      },
      "source": [
        "!./bin/dense-neuralnet --dir ./data --act relu"
      ],
      "execution_count": 89,
      "outputs": [
        {
          "output_type": "stream",
          "text": [
            "Image Magic        :803                            2051\n",
            "Image Count        :EA60                           60000\n",
            "Image Rows         :1C                              28\n",
            "Image Columns      :1C                              28\n",
            "Label Magic        :801                            2049\n",
            "Label Count        :EA60                           60000\n",
            "Loaded training set.\n",
            "Predicting on 10 classes.\n",
            "Epoch 1\n",
            "--------------------------------------------------------------\n",
            "Loss: 1.52806,\tAccuracy: 0.536267\n",
            "\n",
            "Epoch 2\n",
            "--------------------------------------------------------------\n",
            "Loss: 0.553152,\tAccuracy: 0.852467\n",
            "\n",
            "Epoch 3\n",
            "--------------------------------------------------------------\n",
            "Loss: 0.427549,\tAccuracy: 0.881533\n",
            "\n",
            "Epoch 4\n",
            "--------------------------------------------------------------\n",
            "Loss: 0.382462,\tAccuracy: 0.8926\n",
            "\n",
            "Epoch 5\n",
            "--------------------------------------------------------------\n",
            "Loss: 0.358395,\tAccuracy: 0.898283\n",
            "\n",
            "Epoch 6\n",
            "--------------------------------------------------------------\n",
            "Loss: 0.342891,\tAccuracy: 0.902433\n",
            "\n",
            "Epoch 7\n",
            "--------------------------------------------------------------\n",
            "Loss: 0.331855,\tAccuracy: 0.90585\n",
            "\n",
            "Epoch 8\n",
            "--------------------------------------------------------------\n",
            "Loss: 0.323487,\tAccuracy: 0.908\n",
            "\n",
            "Epoch 9\n",
            "--------------------------------------------------------------\n",
            "Loss: 0.316856,\tAccuracy: 0.910016\n",
            "\n",
            "Epoch 10\n",
            "--------------------------------------------------------------\n",
            "Loss: 0.311419,\tAccuracy: 0.911567\n",
            "\n",
            "Epoch 11\n",
            "--------------------------------------------------------------\n",
            "Loss: 0.306834,\tAccuracy: 0.9132\n",
            "\n",
            "Epoch 12\n",
            "--------------------------------------------------------------\n",
            "Loss: 0.302873,\tAccuracy: 0.913983\n",
            "\n",
            "Epoch 13\n",
            "--------------------------------------------------------------\n",
            "Loss: 0.299374,\tAccuracy: 0.914833\n",
            "\n",
            "Epoch 14\n",
            "--------------------------------------------------------------\n",
            "Loss: 0.296199,\tAccuracy: 0.915933\n",
            "\n",
            "Epoch 15\n",
            "--------------------------------------------------------------\n",
            "Loss: 0.293252,\tAccuracy: 0.916817\n",
            "\n",
            "Epoch 16\n",
            "--------------------------------------------------------------\n",
            "Loss: 0.290457,\tAccuracy: 0.917866\n",
            "\n",
            "Epoch 17\n",
            "--------------------------------------------------------------\n",
            "Loss: 0.287752,\tAccuracy: 0.918717\n",
            "\n",
            "Epoch 18\n",
            "--------------------------------------------------------------\n",
            "Loss: 0.285123,\tAccuracy: 0.919533\n",
            "\n",
            "Epoch 19\n",
            "--------------------------------------------------------------\n",
            "Loss: 0.282568,\tAccuracy: 0.920517\n",
            "\n",
            "Epoch 20\n",
            "--------------------------------------------------------------\n",
            "Loss: 0.28006,\tAccuracy: 0.921317\n",
            "\n",
            "Epoch 21\n",
            "--------------------------------------------------------------\n",
            "Loss: 0.277546,\tAccuracy: 0.922033\n",
            "\n",
            "Epoch 22\n",
            "--------------------------------------------------------------\n",
            "Loss: 0.275021,\tAccuracy: 0.922883\n",
            "\n",
            "Epoch 23\n",
            "--------------------------------------------------------------\n",
            "Loss: 0.272474,\tAccuracy: 0.923533\n",
            "\n",
            "Epoch 24\n",
            "--------------------------------------------------------------\n",
            "Loss: 0.269875,\tAccuracy: 0.924383\n",
            "\n",
            "Epoch 25\n",
            "--------------------------------------------------------------\n",
            "Loss: 0.267228,\tAccuracy: 0.92535\n",
            "\n",
            "Image Magic        :803                            2051\n",
            "Image Count        :2710                           10000\n",
            "Image Rows         :1C                              28\n",
            "Image Columns      :1C                              28\n",
            "Label Magic        :801                            2049\n",
            "Label Count        :2710                           10000\n",
            "Loaded test set.\n",
            "Validation\n",
            "----------------------------------------------------\n",
            "Loss: 0.267661,\tAccuracy: 0.9244\n",
            "\n"
          ],
          "name": "stdout"
        }
      ]
    }
  ]
}