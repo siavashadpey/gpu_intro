{
  "nbformat": 4,
  "nbformat_minor": 0,
  "metadata": {
    "colab": {
      "name": "cs179.ipynb",
      "provenance": [],
      "authorship_tag": "ABX9TyPSK7LyrfVUGZqx3KkuyDWr",
      "include_colab_link": true
    },
    "kernelspec": {
      "name": "python3",
      "display_name": "Python 3"
    },
    "accelerator": "GPU"
  },
  "cells": [
    {
      "cell_type": "markdown",
      "metadata": {
        "id": "view-in-github",
        "colab_type": "text"
      },
      "source": [
        "<a href=\"https://colab.research.google.com/github/siavashadpey/gpu_intro/blob/master/cs179.ipynb\" target=\"_parent\"><img src=\"https://colab.research.google.com/assets/colab-badge.svg\" alt=\"Open In Colab\"/></a>"
      ]
    },
    {
      "cell_type": "markdown",
      "metadata": {
        "id": "xy8TSbnwv0Cw",
        "colab_type": "text"
      },
      "source": [
        "We run the code for CS179 on Google colab's GPU using this file."
      ]
    },
    {
      "cell_type": "code",
      "metadata": {
        "id": "PfvSX7uATtYb",
        "colab_type": "code",
        "colab": {}
      },
      "source": [
        "!sudo apt-get install cuda-10.1"
      ],
      "execution_count": null,
      "outputs": []
    },
    {
      "cell_type": "code",
      "metadata": {
        "id": "Q4bxpweeBx8f",
        "colab_type": "code",
        "colab": {}
      },
      "source": [
        "!export PATH=/usr/local/cuda-10.1/bin${PATH:+:${PATH}}\n",
        "!export LD_LIBRARY_PATH=/usr/local/cuda-10.1/lib64\n",
        "!export LIBRARY_PATH=$LIBRARY_PATH:/usr/local/cuda-10.1/lib64"
      ],
      "execution_count": 8,
      "outputs": []
    },
    {
      "cell_type": "code",
      "metadata": {
        "id": "_mvRQLKK_0s7",
        "colab_type": "code",
        "colab": {}
      },
      "source": [
        "%cd /content\n",
        "%rm -fr gpu_intro\n",
        "!git clone https://github.com/siavashadpey/gpu_intro.git"
      ],
      "execution_count": null,
      "outputs": []
    },
    {
      "cell_type": "code",
      "metadata": {
        "id": "U220cePw_1Rm",
        "colab_type": "code",
        "colab": {}
      },
      "source": [
        "%cd /content\n",
        "%cd gpu_intro/lab1"
      ],
      "execution_count": null,
      "outputs": []
    },
    {
      "cell_type": "code",
      "metadata": {
        "id": "b7VoXxYwBPov",
        "colab_type": "code",
        "colab": {}
      },
      "source": [
        "!make clean\n",
        "!make all"
      ],
      "execution_count": null,
      "outputs": []
    },
    {
      "cell_type": "code",
      "metadata": {
        "id": "C7P86K0-DImK",
        "colab_type": "code",
        "colab": {}
      },
      "source": [
        "!ls /usr/local/cuda-10.1/targets/x86_64-linux/lib/libcudart*"
      ],
      "execution_count": null,
      "outputs": []
    },
    {
      "cell_type": "code",
      "metadata": {
        "id": "wBEB8wS_VBtR",
        "colab_type": "code",
        "colab": {}
      },
      "source": [
        "!nvcc --version\n",
        "!nvidia-smi"
      ],
      "execution_count": null,
      "outputs": []
    },
    {
      "cell_type": "code",
      "metadata": {
        "id": "Ijz8tCLpBYSj",
        "colab_type": "code",
        "colab": {
          "base_uri": "https://localhost:8080/",
          "height": 595
        },
        "outputId": "934864e8-6a0a-4562-e1ae-9f9371dfb704"
      },
      "source": [
        "!./noaudio-blur 512 200"
      ],
      "execution_count": 97,
      "outputs": [
        {
          "output_type": "stream",
          "text": [
            "Normalized by factor of: 0.964579\n",
            "gaussian[0] = 0.0111947\n",
            "gaussian[1] = 0.0163699\n",
            "gaussian[2] = 0.0229988\n",
            "gaussian[3] = 0.0310452\n",
            "gaussian[4] = 0.0402634\n",
            "gaussian[5] = 0.0501713\n",
            "gaussian[6] = 0.0600659\n",
            "gaussian[7] = 0.0690923\n",
            "gaussian[8] = 0.0763588\n",
            "gaussian[9] = 0.0810805\n",
            "gaussian[10] = 0.0827185\n",
            "gaussian[11] = 0.0810805\n",
            "gaussian[12] = 0.0763588\n",
            "gaussian[13] = 0.0690923\n",
            "gaussian[14] = 0.0600659\n",
            "gaussian[15] = 0.0501713\n",
            "gaussian[16] = 0.0402634\n",
            "gaussian[17] = 0.0310452\n",
            "gaussian[18] = 0.0229988\n",
            "gaussian[19] = 0.0163699\n",
            "gaussian[20] = 0.0111947\n",
            "CPU blurring...\n",
            "GPU blurring...\n",
            "No kernel error detected\n",
            "nframes: 10000000nblocks: 200Comparing...\n",
            "\n",
            "Successful output\n",
            "\n",
            "CPU time: 654.185 milliseconds\n",
            "GPU time: 38.8064 milliseconds\n",
            "\n",
            "Speedup factor: 16.8577\n",
            "\n"
          ],
          "name": "stdout"
        }
      ]
    },
    {
      "cell_type": "code",
      "metadata": {
        "id": "sguz9qZJW08t",
        "colab_type": "code",
        "colab": {
          "base_uri": "https://localhost:8080/",
          "height": 799
        },
        "outputId": "f90ed6e5-bbac-4ab1-cefb-b0c0df9a6cf1"
      },
      "source": [
        "!./audio-blur 512 200 ./resources/example_test.wav ./resources/example_test_out.wav"
      ],
      "execution_count": 134,
      "outputs": [
        {
          "output_type": "stream",
          "text": [
            "Normalized by factor of: 0.964579\n",
            "gaussian[0] = 0.0111947\n",
            "gaussian[1] = 0.0163699\n",
            "gaussian[2] = 0.0229988\n",
            "gaussian[3] = 0.0310452\n",
            "gaussian[4] = 0.0402634\n",
            "gaussian[5] = 0.0501713\n",
            "gaussian[6] = 0.0600659\n",
            "gaussian[7] = 0.0690923\n",
            "gaussian[8] = 0.0763588\n",
            "gaussian[9] = 0.0810805\n",
            "gaussian[10] = 0.0827185\n",
            "gaussian[11] = 0.0810805\n",
            "gaussian[12] = 0.0763588\n",
            "gaussian[13] = 0.0690923\n",
            "gaussian[14] = 0.0600659\n",
            "gaussian[15] = 0.0501713\n",
            "gaussian[16] = 0.0402634\n",
            "gaussian[17] = 0.0310452\n",
            "gaussian[18] = 0.0229988\n",
            "gaussian[19] = 0.0163699\n",
            "gaussian[20] = 0.0111947\n",
            "CPU blurring...\n",
            "GPU blurring...\n",
            "No kernel error detected\n",
            "nframes: 1151512nblocks: 200Comparing...\n",
            "\n",
            "Successful output\n",
            "\n",
            "CPU time: 84.0342 milliseconds\n",
            "GPU time: 5.1456 milliseconds\n",
            "\n",
            "Speedup factor: 16.3313\n",
            "\n",
            "CPU blurring...\n",
            "GPU blurring...\n",
            "No kernel error detected\n",
            "nframes: 1151512nblocks: 200Comparing...\n",
            "\n",
            "Successful output\n",
            "\n",
            "CPU time: 80.1108 milliseconds\n",
            "GPU time: 2.79712 milliseconds\n",
            "\n",
            "Speedup factor: 28.6405\n",
            "\n"
          ],
          "name": "stdout"
        }
      ]
    },
    {
      "cell_type": "code",
      "metadata": {
        "id": "JNvYYRxLcXO9",
        "colab_type": "code",
        "colab": {}
      },
      "source": [
        "%cd /content/gpu_intro/lab2"
      ],
      "execution_count": null,
      "outputs": []
    },
    {
      "cell_type": "code",
      "metadata": {
        "id": "09TflUFKcaGG",
        "colab_type": "code",
        "colab": {}
      },
      "source": [
        "!make all"
      ],
      "execution_count": null,
      "outputs": []
    },
    {
      "cell_type": "code",
      "metadata": {
        "id": "yn5Yfn71ceaw",
        "colab_type": "code",
        "colab": {
          "base_uri": "https://localhost:8080/",
          "height": 425
        },
        "outputId": "7fb74c63-81cf-4cd1-c3d3-e69340392434"
      },
      "source": [
        "!./transpose"
      ],
      "execution_count": 100,
      "outputs": [
        {
          "output_type": "stream",
          "text": [
            "Size 512 naive CPU: 0.980736 ms\n",
            "Size 512 GPU memcpy: 0.028576 ms\n",
            "Size 512 naive GPU: 0.035712 ms\n",
            "Size 512 shmem GPU: 0.015232 ms\n",
            "Size 512 optimal GPU: 0.012320 ms\n",
            "\n",
            "Size 1024 naive CPU: 4.055072 ms\n",
            "Size 1024 GPU memcpy: 0.038688 ms\n",
            "Size 1024 naive GPU: 0.099456 ms\n",
            "Size 1024 shmem GPU: 0.026592 ms\n",
            "Size 1024 optimal GPU: 0.025184 ms\n",
            "\n",
            "Size 2048 naive CPU: 41.576801 ms\n",
            "Size 2048 GPU memcpy: 0.096448 ms\n",
            "Size 2048 naive GPU: 0.289760 ms\n",
            "Size 2048 shmem GPU: 0.079296 ms\n",
            "Size 2048 optimal GPU: 0.077472 ms\n",
            "\n",
            "Size 4096 naive CPU: 256.661957 ms\n",
            "Size 4096 GPU memcpy: 0.289888 ms\n",
            "Size 4096 naive GPU: 1.105248 ms\n",
            "Size 4096 shmem GPU: 0.254720 ms\n",
            "Size 4096 optimal GPU: 0.253376 ms\n",
            "\n"
          ],
          "name": "stdout"
        }
      ]
    },
    {
      "cell_type": "code",
      "metadata": {
        "id": "lbUmXBYFcjSm",
        "colab_type": "code",
        "colab": {}
      },
      "source": [
        "%cd /content/gpu_intro/lab3"
      ],
      "execution_count": null,
      "outputs": []
    },
    {
      "cell_type": "code",
      "metadata": {
        "id": "fnP2vm6CclVE",
        "colab_type": "code",
        "colab": {}
      },
      "source": [
        "!make all"
      ],
      "execution_count": null,
      "outputs": []
    },
    {
      "cell_type": "code",
      "metadata": {
        "id": "GugVkryyc-Pu",
        "colab_type": "code",
        "colab": {
          "base_uri": "https://localhost:8080/",
          "height": 1000
        },
        "outputId": "12ef404d-410f-4a71-ad61-a761a2f928c8"
      },
      "source": [
        "!./noaudio-fft 512 200"
      ],
      "execution_count": 11,
      "outputs": [
        {
          "output_type": "stream",
          "text": [
            "Index of the GPU with the lowest temperature: 0 (0 C)\n",
            "\n",
            "N (number of samples per channel):    10000000\n",
            "\n",
            "Impulse length (number of samples per channel):    2001\n",
            "\n",
            "CPU convolution...\n",
            "GPU convolution...\n",
            "No kernel error detected\n",
            "Comparing...\n",
            "\n",
            "Successful output\n",
            "\n",
            "CPU time (convolve): 59690.3 milliseconds\n",
            "GPU time (convolve): 857.359 milliseconds\n",
            "\n",
            "Speedup factor (convolution): 69.6211\n",
            "\n",
            "\n",
            "CPU normalization...\n",
            "GPU normalization...\n",
            "No kernel error detected\n",
            "No kernel error detected\n",
            "\n",
            "CPU normalization constant: 0.504522\n",
            "GPU normalization constant: 0.504522\n",
            "\n",
            "CPU time (normalization): 62.397 milliseconds\n",
            "GPU time (normalization): 1.04403 milliseconds\n",
            "\n",
            "Speedup factor (normalization): 59.7654\n",
            "\n",
            "\n",
            "\n",
            "\n",
            "CPU convolution...\n",
            "GPU convolution...\n",
            "No kernel error detected\n",
            "Comparing...\n",
            "\n",
            "Successful output\n",
            "\n",
            "CPU time (convolve): 59801.8 milliseconds\n",
            "GPU time (convolve): 554.519 milliseconds\n",
            "\n",
            "Speedup factor (convolution): 107.844\n",
            "\n",
            "\n",
            "CPU normalization...\n",
            "GPU normalization...\n",
            "No kernel error detected\n",
            "No kernel error detected\n",
            "\n",
            "CPU normalization constant: 0.502063\n",
            "GPU normalization constant: 0.502063\n",
            "\n",
            "CPU time (normalization): 63.3667 milliseconds\n",
            "GPU time (normalization): 0.54448 milliseconds\n",
            "\n",
            "Speedup factor (normalization): 116.38\n",
            "\n",
            "\n",
            "\n"
          ],
          "name": "stdout"
        }
      ]
    },
    {
      "cell_type": "code",
      "metadata": {
        "id": "9Vz7cRDjdtxc",
        "colab_type": "code",
        "colab": {
          "base_uri": "https://localhost:8080/",
          "height": 1000
        },
        "outputId": "79f751fe-8f2c-40bc-8030-ec47da3052da"
      },
      "source": [
        "!./audio-fft 512 200 resources/example_testfile.wav resources/silo_small.wav resources/examples_testfile_silo_out.wav"
      ],
      "execution_count": 10,
      "outputs": [
        {
          "output_type": "stream",
          "text": [
            "Index of the GPU with the lowest temperature: 0 (0 C)\n",
            "\n",
            "N (number of samples per channel):    1375413\n",
            "\n",
            "Impulse length (number of samples per channel):    1014\n",
            "\n",
            "CPU convolution...\n",
            "GPU convolution...\n",
            "No kernel error detected\n",
            "Comparing...\n",
            "\n",
            "Successful output\n",
            "\n",
            "CPU time (convolve): 4154.4 milliseconds\n",
            "GPU time (convolve): 297.474 milliseconds\n",
            "\n",
            "Speedup factor (convolution): 13.9656\n",
            "\n",
            "\n",
            "CPU normalization...\n",
            "GPU normalization...\n",
            "No kernel error detected\n",
            "No kernel error detected\n",
            "\n",
            "CPU normalization constant: 6.75524\n",
            "GPU normalization constant: 6.75524\n",
            "\n",
            "CPU time (normalization): 9.67866 milliseconds\n",
            "GPU time (normalization): 0.30112 milliseconds\n",
            "\n",
            "Speedup factor (normalization): 32.1422\n",
            "\n",
            "\n",
            "\n",
            "\n",
            "CPU convolution...\n",
            "GPU convolution...\n",
            "No kernel error detected\n",
            "Comparing...\n",
            "\n",
            "Successful output\n",
            "\n",
            "CPU time (convolve): 4166.64 milliseconds\n",
            "GPU time (convolve): 78.0854 milliseconds\n",
            "\n",
            "Speedup factor (convolution): 53.3601\n",
            "\n",
            "\n",
            "CPU normalization...\n",
            "GPU normalization...\n",
            "No kernel error detected\n",
            "No kernel error detected\n",
            "\n",
            "CPU normalization constant: 7.91163\n",
            "GPU normalization constant: 7.91163\n",
            "\n",
            "CPU time (normalization): 8.45126 milliseconds\n",
            "GPU time (normalization): 0.139712 milliseconds\n",
            "\n",
            "Speedup factor (normalization): 60.4906\n",
            "\n",
            "\n",
            "\n"
          ],
          "name": "stdout"
        }
      ]
    }
  ]
}