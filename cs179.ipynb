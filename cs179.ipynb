{
  "nbformat": 4,
  "nbformat_minor": 0,
  "metadata": {
    "colab": {
      "name": "cs179.ipynb",
      "provenance": [],
      "authorship_tag": "ABX9TyMa/JxVko6j0xj9eWGMBR2W",
      "include_colab_link": true
    },
    "kernelspec": {
      "name": "python3",
      "display_name": "Python 3"
    },
    "accelerator": "GPU"
  },
  "cells": [
    {
      "cell_type": "markdown",
      "metadata": {
        "id": "view-in-github",
        "colab_type": "text"
      },
      "source": [
        "<a href=\"https://colab.research.google.com/github/siavashadpey/gpu_intro/blob/master/cs179.ipynb\" target=\"_parent\"><img src=\"https://colab.research.google.com/assets/colab-badge.svg\" alt=\"Open In Colab\"/></a>"
      ]
    },
    {
      "cell_type": "markdown",
      "metadata": {
        "id": "xy8TSbnwv0Cw",
        "colab_type": "text"
      },
      "source": [
        "We run the code for CS179 on Google colab's GPU using this file."
      ]
    },
    {
      "cell_type": "code",
      "metadata": {
        "id": "PfvSX7uATtYb",
        "colab_type": "code",
        "colab": {}
      },
      "source": [
        "!sudo apt-get install cuda-10.1"
      ],
      "execution_count": null,
      "outputs": []
    },
    {
      "cell_type": "code",
      "metadata": {
        "id": "Q4bxpweeBx8f",
        "colab_type": "code",
        "colab": {}
      },
      "source": [
        "!export PATH=/usr/local/cuda-10.1/bin${PATH:+:${PATH}}\n",
        "!export LD_LIBRARY_PATH=/usr/local/cuda-10.1/lib64\n",
        "!export LIBRARY_PATH=$LIBRARY_PATH:/usr/local/cuda-10.1/lib64"
      ],
      "execution_count": 5,
      "outputs": []
    },
    {
      "cell_type": "code",
      "metadata": {
        "id": "_mvRQLKK_0s7",
        "colab_type": "code",
        "colab": {}
      },
      "source": [
        "%cd /content\n",
        "%rm -fr gpu_intro\n",
        "!git clone https://github.com/siavashadpey/gpu_intro.git"
      ],
      "execution_count": null,
      "outputs": []
    },
    {
      "cell_type": "code",
      "metadata": {
        "id": "U220cePw_1Rm",
        "colab_type": "code",
        "colab": {}
      },
      "source": [
        "%cd /content\n",
        "%cd gpu_intro/lab1"
      ],
      "execution_count": null,
      "outputs": []
    },
    {
      "cell_type": "code",
      "metadata": {
        "id": "b7VoXxYwBPov",
        "colab_type": "code",
        "colab": {}
      },
      "source": [
        "!make clean\n",
        "!make all"
      ],
      "execution_count": null,
      "outputs": []
    },
    {
      "cell_type": "code",
      "metadata": {
        "id": "C7P86K0-DImK",
        "colab_type": "code",
        "colab": {}
      },
      "source": [
        "!ls /usr/local/cuda-10.1/targets/x86_64-linux/lib/libcudart*"
      ],
      "execution_count": null,
      "outputs": []
    },
    {
      "cell_type": "code",
      "metadata": {
        "id": "wBEB8wS_VBtR",
        "colab_type": "code",
        "colab": {}
      },
      "source": [
        "!nvcc --version\n",
        "!nvidia-smi"
      ],
      "execution_count": null,
      "outputs": []
    },
    {
      "cell_type": "code",
      "metadata": {
        "id": "Ijz8tCLpBYSj",
        "colab_type": "code",
        "colab": {
          "base_uri": "https://localhost:8080/",
          "height": 595
        },
        "outputId": "eb759882-a3b9-4b46-b017-0175b268cf81"
      },
      "source": [
        "!./noaudio-blur 512 200"
      ],
      "execution_count": null,
      "outputs": [
        {
          "output_type": "stream",
          "text": [
            "Normalized by factor of: 0.964579\n",
            "gaussian[0] = 0.0111947\n",
            "gaussian[1] = 0.0163699\n",
            "gaussian[2] = 0.0229988\n",
            "gaussian[3] = 0.0310452\n",
            "gaussian[4] = 0.0402634\n",
            "gaussian[5] = 0.0501713\n",
            "gaussian[6] = 0.0600659\n",
            "gaussian[7] = 0.0690923\n",
            "gaussian[8] = 0.0763588\n",
            "gaussian[9] = 0.0810805\n",
            "gaussian[10] = 0.0827185\n",
            "gaussian[11] = 0.0810805\n",
            "gaussian[12] = 0.0763588\n",
            "gaussian[13] = 0.0690923\n",
            "gaussian[14] = 0.0600659\n",
            "gaussian[15] = 0.0501713\n",
            "gaussian[16] = 0.0402634\n",
            "gaussian[17] = 0.0310452\n",
            "gaussian[18] = 0.0229988\n",
            "gaussian[19] = 0.0163699\n",
            "gaussian[20] = 0.0111947\n",
            "CPU blurring...\n",
            "GPU blurring...\n",
            "No kernel error detected\n",
            "nframes: 10000000nblocks: 200Comparing...\n",
            "\n",
            "Successful output\n",
            "\n",
            "CPU time: 655.198 milliseconds\n",
            "GPU time: 39.9436 milliseconds\n",
            "\n",
            "Speedup factor: 16.4031\n",
            "\n"
          ],
          "name": "stdout"
        }
      ]
    },
    {
      "cell_type": "code",
      "metadata": {
        "id": "sguz9qZJW08t",
        "colab_type": "code",
        "colab": {
          "base_uri": "https://localhost:8080/",
          "height": 799
        },
        "outputId": "58f55ccd-c964-4d00-d210-3c7b0cb8683a"
      },
      "source": [
        "!./audio-blur 512 200 ./resources/example_test.wav ./resources/example_test_out.wav"
      ],
      "execution_count": null,
      "outputs": [
        {
          "output_type": "stream",
          "text": [
            "Normalized by factor of: 0.964579\n",
            "gaussian[0] = 0.0111947\n",
            "gaussian[1] = 0.0163699\n",
            "gaussian[2] = 0.0229988\n",
            "gaussian[3] = 0.0310452\n",
            "gaussian[4] = 0.0402634\n",
            "gaussian[5] = 0.0501713\n",
            "gaussian[6] = 0.0600659\n",
            "gaussian[7] = 0.0690923\n",
            "gaussian[8] = 0.0763588\n",
            "gaussian[9] = 0.0810805\n",
            "gaussian[10] = 0.0827185\n",
            "gaussian[11] = 0.0810805\n",
            "gaussian[12] = 0.0763588\n",
            "gaussian[13] = 0.0690923\n",
            "gaussian[14] = 0.0600659\n",
            "gaussian[15] = 0.0501713\n",
            "gaussian[16] = 0.0402634\n",
            "gaussian[17] = 0.0310452\n",
            "gaussian[18] = 0.0229988\n",
            "gaussian[19] = 0.0163699\n",
            "gaussian[20] = 0.0111947\n",
            "CPU blurring...\n",
            "GPU blurring...\n",
            "No kernel error detected\n",
            "nframes: 1151512nblocks: 200Comparing...\n",
            "\n",
            "Successful output\n",
            "\n",
            "CPU time: 78.8469 milliseconds\n",
            "GPU time: 5.18787 milliseconds\n",
            "\n",
            "Speedup factor: 15.1983\n",
            "\n",
            "CPU blurring...\n",
            "GPU blurring...\n",
            "No kernel error detected\n",
            "nframes: 1151512nblocks: 200Comparing...\n",
            "\n",
            "Successful output\n",
            "\n",
            "CPU time: 80.1944 milliseconds\n",
            "GPU time: 2.94586 milliseconds\n",
            "\n",
            "Speedup factor: 27.2228\n",
            "\n"
          ],
          "name": "stdout"
        }
      ]
    },
    {
      "cell_type": "code",
      "metadata": {
        "id": "JNvYYRxLcXO9",
        "colab_type": "code",
        "colab": {}
      },
      "source": [
        "%cd /content/gpu_intro/lab2"
      ],
      "execution_count": null,
      "outputs": []
    },
    {
      "cell_type": "code",
      "metadata": {
        "id": "09TflUFKcaGG",
        "colab_type": "code",
        "colab": {}
      },
      "source": [
        "!make all"
      ],
      "execution_count": null,
      "outputs": []
    },
    {
      "cell_type": "code",
      "metadata": {
        "id": "yn5Yfn71ceaw",
        "colab_type": "code",
        "colab": {
          "base_uri": "https://localhost:8080/",
          "height": 425
        },
        "outputId": "ad13d5d3-8a67-45f2-8cc0-ae2fda31f093"
      },
      "source": [
        "!./transpose"
      ],
      "execution_count": null,
      "outputs": [
        {
          "output_type": "stream",
          "text": [
            "Size 512 naive CPU: 0.697088 ms\n",
            "Size 512 GPU memcpy: 0.031360 ms\n",
            "Size 512 naive GPU: 0.071680 ms\n",
            "Size 512 shmem GPU: 0.020000 ms\n",
            "Size 512 optimal GPU: 0.017248 ms\n",
            "\n",
            "Size 1024 naive CPU: 4.051264 ms\n",
            "Size 1024 GPU memcpy: 0.049536 ms\n",
            "Size 1024 naive GPU: 0.209504 ms\n",
            "Size 1024 shmem GPU: 0.049184 ms\n",
            "Size 1024 optimal GPU: 0.045024 ms\n",
            "\n",
            "Size 2048 naive CPU: 42.006401 ms\n",
            "Size 2048 GPU memcpy: 0.162016 ms\n",
            "Size 2048 naive GPU: 0.753056 ms\n",
            "Size 2048 shmem GPU: 0.161760 ms\n",
            "Size 2048 optimal GPU: 0.158400 ms\n",
            "\n",
            "Size 4096 naive CPU: 234.220673 ms\n",
            "Size 4096 GPU memcpy: 0.573440 ms\n",
            "Size 4096 naive GPU: 2.927520 ms\n",
            "Size 4096 shmem GPU: 0.624640 ms\n",
            "Size 4096 optimal GPU: 0.631392 ms\n",
            "\n"
          ],
          "name": "stdout"
        }
      ]
    },
    {
      "cell_type": "code",
      "metadata": {
        "id": "lbUmXBYFcjSm",
        "colab_type": "code",
        "colab": {}
      },
      "source": [
        "%cd /content/gpu_intro/lab3"
      ],
      "execution_count": null,
      "outputs": []
    },
    {
      "cell_type": "code",
      "metadata": {
        "id": "fnP2vm6CclVE",
        "colab_type": "code",
        "colab": {}
      },
      "source": [
        "!make all"
      ],
      "execution_count": null,
      "outputs": []
    },
    {
      "cell_type": "code",
      "metadata": {
        "id": "GugVkryyc-Pu",
        "colab_type": "code",
        "colab": {
          "base_uri": "https://localhost:8080/",
          "height": 1000
        },
        "outputId": "824c4c93-be82-4ecf-ed06-4e269b7aad11"
      },
      "source": [
        "!./noaudio-fft 512 200"
      ],
      "execution_count": null,
      "outputs": [
        {
          "output_type": "stream",
          "text": [
            "Index of the GPU with the lowest temperature: 0 (0 C)\n",
            "\n",
            "N (number of samples per channel):    10000000\n",
            "\n",
            "Impulse length (number of samples per channel):    2001\n",
            "\n",
            "CPU convolution...\n",
            "GPU convolution...\n",
            "No kernel error detected\n",
            "Comparing...\n",
            "\n",
            "Successful output\n",
            "\n",
            "CPU time (convolve): 59947.7 milliseconds\n",
            "GPU time (convolve): 1882.1 milliseconds\n",
            "\n",
            "Speedup factor (convolution): 31.8514\n",
            "\n",
            "\n",
            "CPU normalization...\n",
            "GPU normalization...\n",
            "No kernel error detected\n",
            "No kernel error detected\n",
            "\n",
            "CPU normalization constant: 0.504522\n",
            "GPU normalization constant: 0.504522\n",
            "\n",
            "CPU time (normalization): 63.268 milliseconds\n",
            "GPU time (normalization): 1.92803 milliseconds\n",
            "\n",
            "Speedup factor (normalization): 32.8148\n",
            "\n",
            "\n",
            "\n",
            "\n",
            "CPU convolution...\n",
            "GPU convolution...\n",
            "No kernel error detected\n",
            "Comparing...\n",
            "\n",
            "Successful output\n",
            "\n",
            "CPU time (convolve): 59699 milliseconds\n",
            "GPU time (convolve): 576.757 milliseconds\n",
            "\n",
            "Speedup factor (convolution): 103.508\n",
            "\n",
            "\n",
            "CPU normalization...\n",
            "GPU normalization...\n",
            "No kernel error detected\n",
            "No kernel error detected\n",
            "\n",
            "CPU normalization constant: 0.502063\n",
            "GPU normalization constant: 0.502063\n",
            "\n",
            "CPU time (normalization): 62.5022 milliseconds\n",
            "GPU time (normalization): 1.47459 milliseconds\n",
            "\n",
            "Speedup factor (normalization): 42.3861\n",
            "\n",
            "\n",
            "\n"
          ],
          "name": "stdout"
        }
      ]
    },
    {
      "cell_type": "code",
      "metadata": {
        "id": "9Vz7cRDjdtxc",
        "colab_type": "code",
        "colab": {
          "base_uri": "https://localhost:8080/",
          "height": 1000
        },
        "outputId": "ea1ad2d4-f622-44e6-e482-d2d230c04bcf"
      },
      "source": [
        "!./audio-fft 512 200 resources/example_testfile.wav resources/silo_small.wav resources/examples_testfile_silo_out.wav"
      ],
      "execution_count": null,
      "outputs": [
        {
          "output_type": "stream",
          "text": [
            "Index of the GPU with the lowest temperature: 0 (0 C)\n",
            "\n",
            "N (number of samples per channel):    1375413\n",
            "\n",
            "Impulse length (number of samples per channel):    1014\n",
            "\n",
            "CPU convolution...\n",
            "GPU convolution...\n",
            "No kernel error detected\n",
            "Comparing...\n",
            "\n",
            "Successful output\n",
            "\n",
            "CPU time (convolve): 4134.68 milliseconds\n",
            "GPU time (convolve): 518.895 milliseconds\n",
            "\n",
            "Speedup factor (convolution): 7.96823\n",
            "\n",
            "\n",
            "CPU normalization...\n",
            "GPU normalization...\n",
            "No kernel error detected\n",
            "No kernel error detected\n",
            "\n",
            "CPU normalization constant: 6.75524\n",
            "GPU normalization constant: 6.75524\n",
            "\n",
            "CPU time (normalization): 8.95565 milliseconds\n",
            "GPU time (normalization): 0.448096 milliseconds\n",
            "\n",
            "Speedup factor (normalization): 19.986\n",
            "\n",
            "\n",
            "\n",
            "\n",
            "CPU convolution...\n",
            "GPU convolution...\n",
            "No kernel error detected\n",
            "Comparing...\n",
            "\n",
            "Successful output\n",
            "\n",
            "CPU time (convolve): 4161.25 milliseconds\n",
            "GPU time (convolve): 82.2365 milliseconds\n",
            "\n",
            "Speedup factor (convolution): 50.6009\n",
            "\n",
            "\n",
            "CPU normalization...\n",
            "GPU normalization...\n",
            "No kernel error detected\n",
            "No kernel error detected\n",
            "\n",
            "CPU normalization constant: 7.91163\n",
            "GPU normalization constant: 7.91163\n",
            "\n",
            "CPU time (normalization): 8.35917 milliseconds\n",
            "GPU time (normalization): 0.28848 milliseconds\n",
            "\n",
            "Speedup factor (normalization): 28.9766\n",
            "\n",
            "\n",
            "\n"
          ],
          "name": "stdout"
        }
      ]
    },
    {
      "cell_type": "code",
      "metadata": {
        "id": "tfYRxDkicszv",
        "colab_type": "code",
        "colab": {}
      },
      "source": [
        "%cd /content/gpu_intro/lab5/"
      ],
      "execution_count": null,
      "outputs": []
    },
    {
      "cell_type": "code",
      "metadata": {
        "id": "B43XbWjcc0RG",
        "colab_type": "code",
        "colab": {}
      },
      "source": [
        "%mkdir bin obj"
      ],
      "execution_count": 9,
      "outputs": []
    },
    {
      "cell_type": "code",
      "metadata": {
        "id": "RO_q-q_8d7UQ",
        "colab_type": "code",
        "colab": {}
      },
      "source": [
        "!make -B"
      ],
      "execution_count": null,
      "outputs": []
    },
    {
      "cell_type": "code",
      "metadata": {
        "id": "cIoue-yGd776",
        "colab_type": "code",
        "colab": {
          "base_uri": "https://localhost:8080/",
          "height": 1000
        },
        "outputId": "d2ada073-9e71-4029-fb8e-ff70ff065241"
      },
      "source": [
        "!./bin/dense-neuralnet --dir ./data --act relu"
      ],
      "execution_count": 26,
      "outputs": [
        {
          "output_type": "stream",
          "text": [
            "Image Magic        :803                            2051\n",
            "Image Count        :EA60                           60000\n",
            "Image Rows         :1C                              28\n",
            "Image Columns      :1C                              28\n",
            "Label Magic        :801                            2049\n",
            "Label Count        :EA60                           60000\n",
            "Loaded training set.\n",
            "Predicting on 10 classes.\n",
            "Epoch 1\n",
            "--------------------------------------------------------------\n",
            "Loss: 1.52392,\tAccuracy: 0.535617\n",
            "\n",
            "Epoch 2\n",
            "--------------------------------------------------------------\n",
            "Loss: 0.55275,\tAccuracy: 0.851617\n",
            "\n",
            "Epoch 3\n",
            "--------------------------------------------------------------\n",
            "Loss: 0.426719,\tAccuracy: 0.8814\n",
            "\n",
            "Epoch 4\n",
            "--------------------------------------------------------------\n",
            "Loss: 0.38124,\tAccuracy: 0.892716\n",
            "\n",
            "Epoch 5\n",
            "--------------------------------------------------------------\n",
            "Loss: 0.357169,\tAccuracy: 0.898466\n",
            "\n",
            "Epoch 6\n",
            "--------------------------------------------------------------\n",
            "Loss: 0.341784,\tAccuracy: 0.902767\n",
            "\n",
            "Epoch 7\n",
            "--------------------------------------------------------------\n",
            "Loss: 0.330872,\tAccuracy: 0.905633\n",
            "\n",
            "Epoch 8\n",
            "--------------------------------------------------------------\n",
            "Loss: 0.322587,\tAccuracy: 0.9082\n",
            "\n",
            "Epoch 9\n",
            "--------------------------------------------------------------\n",
            "Loss: 0.315974,\tAccuracy: 0.909933\n",
            "\n",
            "Epoch 10\n",
            "--------------------------------------------------------------\n",
            "Loss: 0.310498,\tAccuracy: 0.91175\n",
            "\n",
            "Epoch 11\n",
            "--------------------------------------------------------------\n",
            "Loss: 0.305845,\tAccuracy: 0.91315\n",
            "\n",
            "Epoch 12\n",
            "--------------------------------------------------------------\n",
            "Loss: 0.301803,\tAccuracy: 0.91435\n",
            "\n",
            "Epoch 13\n",
            "--------------------------------------------------------------\n",
            "Loss: 0.298226,\tAccuracy: 0.915334\n",
            "\n",
            "Epoch 14\n",
            "--------------------------------------------------------------\n",
            "Loss: 0.295016,\tAccuracy: 0.916234\n",
            "\n",
            "Epoch 15\n",
            "--------------------------------------------------------------\n",
            "Loss: 0.292101,\tAccuracy: 0.917216\n",
            "\n",
            "Epoch 16\n",
            "--------------------------------------------------------------\n",
            "Loss: 0.289408,\tAccuracy: 0.917966\n",
            "\n",
            "Epoch 17\n",
            "--------------------------------------------------------------\n",
            "Loss: 0.286894,\tAccuracy: 0.919033\n",
            "\n",
            "Epoch 18\n",
            "--------------------------------------------------------------\n",
            "Loss: 0.284531,\tAccuracy: 0.91965\n",
            "\n",
            "Epoch 19\n",
            "--------------------------------------------------------------\n",
            "Loss: 0.282284,\tAccuracy: 0.920383\n",
            "\n",
            "Epoch 20\n",
            "--------------------------------------------------------------\n",
            "Loss: 0.280131,\tAccuracy: 0.9209\n",
            "\n",
            "Epoch 21\n",
            "--------------------------------------------------------------\n",
            "Loss: 0.278035,\tAccuracy: 0.921583\n",
            "\n",
            "Epoch 22\n",
            "--------------------------------------------------------------\n",
            "Loss: 0.275991,\tAccuracy: 0.922367\n",
            "\n",
            "Epoch 23\n",
            "--------------------------------------------------------------\n",
            "Loss: 0.273984,\tAccuracy: 0.922933\n",
            "\n",
            "Epoch 24\n",
            "--------------------------------------------------------------\n",
            "Loss: 0.271984,\tAccuracy: 0.9235\n",
            "\n",
            "Epoch 25\n",
            "--------------------------------------------------------------\n",
            "Loss: 0.269999,\tAccuracy: 0.924133\n",
            "\n",
            "Image Magic        :803                            2051\n",
            "Image Count        :2710                           10000\n",
            "Image Rows         :1C                              28\n",
            "Image Columns      :1C                              28\n",
            "Label Magic        :801                            2049\n",
            "Label Count        :2710                           10000\n",
            "Loaded test set.\n",
            "Validation\n",
            "----------------------------------------------------\n",
            "Loss: 0.271615,\tAccuracy: 0.9226\n",
            "\n"
          ],
          "name": "stdout"
        }
      ]
    },
    {
      "cell_type": "code",
      "metadata": {
        "id": "kJyJDMCrdYzQ",
        "colab_type": "code",
        "colab": {
          "base_uri": "https://localhost:8080/",
          "height": 1000
        },
        "outputId": "34967543-2b66-4497-f04c-b162ec44a13f"
      },
      "source": [
        "!./bin/conv-neuralnet --dir ./data --act relu"
      ],
      "execution_count": 27,
      "outputs": [
        {
          "output_type": "stream",
          "text": [
            "Image Magic        :803                            2051\n",
            "Image Count        :EA60                           60000\n",
            "Image Rows         :1C                              28\n",
            "Image Columns      :1C                              28\n",
            "Label Magic        :801                            2049\n",
            "Label Count        :EA60                           60000\n",
            "Loaded training set.\n",
            "Predicting on 10 classes.\n",
            "Epoch 1\n",
            "--------------------------------------------------------------\n",
            "Loss: 1.17517,\tAccuracy: 0.635117\n",
            "\n",
            "Epoch 2\n",
            "--------------------------------------------------------------\n",
            "Loss: 0.519491,\tAccuracy: 0.837933\n",
            "\n",
            "Epoch 3\n",
            "--------------------------------------------------------------\n",
            "Loss: 0.424472,\tAccuracy: 0.869333\n",
            "\n",
            "Epoch 4\n",
            "--------------------------------------------------------------\n",
            "Loss: 0.366386,\tAccuracy: 0.888049\n",
            "\n",
            "Epoch 5\n",
            "--------------------------------------------------------------\n",
            "Loss: 0.311792,\tAccuracy: 0.906217\n",
            "\n",
            "Epoch 6\n",
            "--------------------------------------------------------------\n",
            "Loss: 0.264777,\tAccuracy: 0.920967\n",
            "\n",
            "Epoch 7\n",
            "--------------------------------------------------------------\n",
            "Loss: 0.228531,\tAccuracy: 0.931366\n",
            "\n",
            "Epoch 8\n",
            "--------------------------------------------------------------\n",
            "Loss: 0.20092,\tAccuracy: 0.9401\n",
            "\n",
            "Epoch 9\n",
            "--------------------------------------------------------------\n",
            "Loss: 0.179793,\tAccuracy: 0.946066\n",
            "\n",
            "Epoch 10\n",
            "--------------------------------------------------------------\n",
            "Loss: 0.163428,\tAccuracy: 0.951133\n",
            "\n",
            "Epoch 11\n",
            "--------------------------------------------------------------\n",
            "Loss: 0.150567,\tAccuracy: 0.954834\n",
            "\n",
            "Epoch 12\n",
            "--------------------------------------------------------------\n",
            "Loss: 0.140282,\tAccuracy: 0.95795\n",
            "\n",
            "Epoch 13\n",
            "--------------------------------------------------------------\n",
            "Loss: 0.131963,\tAccuracy: 0.9607\n",
            "\n",
            "Epoch 14\n",
            "--------------------------------------------------------------\n",
            "Loss: 0.124957,\tAccuracy: 0.962867\n",
            "\n",
            "Epoch 15\n",
            "--------------------------------------------------------------\n",
            "Loss: 0.118952,\tAccuracy: 0.964534\n",
            "\n",
            "Epoch 16\n",
            "--------------------------------------------------------------\n",
            "Loss: 0.113716,\tAccuracy: 0.965967\n",
            "\n",
            "Epoch 17\n",
            "--------------------------------------------------------------\n",
            "Loss: 0.109064,\tAccuracy: 0.967334\n",
            "\n",
            "Epoch 18\n",
            "--------------------------------------------------------------\n",
            "Loss: 0.104858,\tAccuracy: 0.96865\n",
            "\n",
            "Epoch 19\n",
            "--------------------------------------------------------------\n",
            "Loss: 0.101053,\tAccuracy: 0.969501\n",
            "\n",
            "Epoch 20\n",
            "--------------------------------------------------------------\n",
            "Loss: 0.09758,\tAccuracy: 0.97035\n",
            "\n",
            "Epoch 21\n",
            "--------------------------------------------------------------\n",
            "Loss: 0.0944067,\tAccuracy: 0.971283\n",
            "\n",
            "Epoch 22\n",
            "--------------------------------------------------------------\n",
            "Loss: 0.0914837,\tAccuracy: 0.9719\n",
            "\n",
            "Epoch 23\n",
            "--------------------------------------------------------------\n",
            "Loss: 0.0887756,\tAccuracy: 0.9726\n",
            "\n",
            "Epoch 24\n",
            "--------------------------------------------------------------\n",
            "Loss: 0.0862631,\tAccuracy: 0.97325\n",
            "\n",
            "Epoch 25\n",
            "--------------------------------------------------------------\n",
            "Loss: 0.0839859,\tAccuracy: 0.974084\n",
            "\n",
            "Image Magic        :803                            2051\n",
            "Image Count        :2710                           10000\n",
            "Image Rows         :1C                              28\n",
            "Image Columns      :1C                              28\n",
            "Label Magic        :801                            2049\n",
            "Label Count        :2710                           10000\n",
            "Loaded test set.\n",
            "Validation\n",
            "----------------------------------------------------\n",
            "Loss: 0.0797142,\tAccuracy: 0.9755\n",
            "\n"
          ],
          "name": "stdout"
        }
      ]
    }
  ]
}