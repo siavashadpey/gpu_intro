{
  "nbformat": 4,
  "nbformat_minor": 0,
  "metadata": {
    "colab": {
      "name": "cs179.ipynb",
      "provenance": [],
      "authorship_tag": "ABX9TyMfGjztXgk0OI+MVOGhv5hn",
      "include_colab_link": true
    },
    "kernelspec": {
      "name": "python3",
      "display_name": "Python 3"
    },
    "accelerator": "GPU"
  },
  "cells": [
    {
      "cell_type": "markdown",
      "metadata": {
        "id": "view-in-github",
        "colab_type": "text"
      },
      "source": [
        "<a href=\"https://colab.research.google.com/github/siavashadpey/gpu_intro/blob/master/cs179.ipynb\" target=\"_parent\"><img src=\"https://colab.research.google.com/assets/colab-badge.svg\" alt=\"Open In Colab\"/></a>"
      ]
    },
    {
      "cell_type": "markdown",
      "metadata": {
        "id": "xy8TSbnwv0Cw",
        "colab_type": "text"
      },
      "source": [
        "We run the code for CS179 on Google colab's GPU using this file."
      ]
    },
    {
      "cell_type": "code",
      "metadata": {
        "id": "PfvSX7uATtYb",
        "colab_type": "code",
        "colab": {}
      },
      "source": [
        "!sudo apt-get install cuda-10.1"
      ],
      "execution_count": null,
      "outputs": []
    },
    {
      "cell_type": "code",
      "metadata": {
        "id": "Q4bxpweeBx8f",
        "colab_type": "code",
        "colab": {}
      },
      "source": [
        "!export PATH=/usr/local/cuda-10.1/bin${PATH:+:${PATH}}\n",
        "!export LD_LIBRARY_PATH=/usr/local/cuda-10.1/lib64\n",
        "!export LIBRARY_PATH=$LIBRARY_PATH:/usr/local/cuda-10.1/lib64"
      ],
      "execution_count": 2,
      "outputs": []
    },
    {
      "cell_type": "code",
      "metadata": {
        "id": "_mvRQLKK_0s7",
        "colab_type": "code",
        "colab": {}
      },
      "source": [
        "%cd /content\n",
        "%rm -fr gpu_intro\n",
        "!git clone https://github.com/siavashadpey/gpu_intro.git"
      ],
      "execution_count": null,
      "outputs": []
    },
    {
      "cell_type": "code",
      "metadata": {
        "id": "U220cePw_1Rm",
        "colab_type": "code",
        "colab": {}
      },
      "source": [
        "%cd /content\n",
        "%cd gpu_intro/lab1"
      ],
      "execution_count": null,
      "outputs": []
    },
    {
      "cell_type": "code",
      "metadata": {
        "id": "b7VoXxYwBPov",
        "colab_type": "code",
        "colab": {}
      },
      "source": [
        "!make -B all"
      ],
      "execution_count": null,
      "outputs": []
    },
    {
      "cell_type": "code",
      "metadata": {
        "id": "C7P86K0-DImK",
        "colab_type": "code",
        "colab": {}
      },
      "source": [
        "!ls /usr/local/cuda-10.1/targets/x86_64-linux/lib/libcudart*"
      ],
      "execution_count": null,
      "outputs": []
    },
    {
      "cell_type": "code",
      "metadata": {
        "id": "wBEB8wS_VBtR",
        "colab_type": "code",
        "colab": {}
      },
      "source": [
        "!nvcc --version\n",
        "!nvidia-smi"
      ],
      "execution_count": null,
      "outputs": []
    },
    {
      "cell_type": "code",
      "metadata": {
        "id": "Ijz8tCLpBYSj",
        "colab_type": "code",
        "colab": {
          "base_uri": "https://localhost:8080/",
          "height": 595
        },
        "outputId": "ff4ad74e-c7db-4273-aa49-f6c5eb31cdd4"
      },
      "source": [
        "!./noaudio-blur 512 200"
      ],
      "execution_count": 41,
      "outputs": [
        {
          "output_type": "stream",
          "text": [
            "Normalized by factor of: 0.964579\n",
            "gaussian[0] = 0.0111947\n",
            "gaussian[1] = 0.0163699\n",
            "gaussian[2] = 0.0229988\n",
            "gaussian[3] = 0.0310452\n",
            "gaussian[4] = 0.0402634\n",
            "gaussian[5] = 0.0501713\n",
            "gaussian[6] = 0.0600659\n",
            "gaussian[7] = 0.0690923\n",
            "gaussian[8] = 0.0763588\n",
            "gaussian[9] = 0.0810805\n",
            "gaussian[10] = 0.0827185\n",
            "gaussian[11] = 0.0810805\n",
            "gaussian[12] = 0.0763588\n",
            "gaussian[13] = 0.0690923\n",
            "gaussian[14] = 0.0600659\n",
            "gaussian[15] = 0.0501713\n",
            "gaussian[16] = 0.0402634\n",
            "gaussian[17] = 0.0310452\n",
            "gaussian[18] = 0.0229988\n",
            "gaussian[19] = 0.0163699\n",
            "gaussian[20] = 0.0111947\n",
            "CPU blurring...\n",
            "GPU blurring...\n",
            "No kernel error detected\n",
            "nframes: 10000000nblocks: 200Comparing...\n",
            "\n",
            "Successful output\n",
            "\n",
            "CPU time: 693.976 milliseconds\n",
            "GPU time: 50.7386 milliseconds\n",
            "\n",
            "Speedup factor: 13.6775\n",
            "\n"
          ],
          "name": "stdout"
        }
      ]
    },
    {
      "cell_type": "code",
      "metadata": {
        "id": "sguz9qZJW08t",
        "colab_type": "code",
        "colab": {
          "base_uri": "https://localhost:8080/",
          "height": 799
        },
        "outputId": "bc5f3ccd-c3b0-464f-c1de-025fabe73ef4"
      },
      "source": [
        "!./audio-blur 512 200 ./resources/example_test.wav ./resources/example_test_out.wav"
      ],
      "execution_count": 42,
      "outputs": [
        {
          "output_type": "stream",
          "text": [
            "Normalized by factor of: 0.964579\n",
            "gaussian[0] = 0.0111947\n",
            "gaussian[1] = 0.0163699\n",
            "gaussian[2] = 0.0229988\n",
            "gaussian[3] = 0.0310452\n",
            "gaussian[4] = 0.0402634\n",
            "gaussian[5] = 0.0501713\n",
            "gaussian[6] = 0.0600659\n",
            "gaussian[7] = 0.0690923\n",
            "gaussian[8] = 0.0763588\n",
            "gaussian[9] = 0.0810805\n",
            "gaussian[10] = 0.0827185\n",
            "gaussian[11] = 0.0810805\n",
            "gaussian[12] = 0.0763588\n",
            "gaussian[13] = 0.0690923\n",
            "gaussian[14] = 0.0600659\n",
            "gaussian[15] = 0.0501713\n",
            "gaussian[16] = 0.0402634\n",
            "gaussian[17] = 0.0310452\n",
            "gaussian[18] = 0.0229988\n",
            "gaussian[19] = 0.0163699\n",
            "gaussian[20] = 0.0111947\n",
            "CPU blurring...\n",
            "GPU blurring...\n",
            "No kernel error detected\n",
            "nframes: 1151512nblocks: 200Comparing...\n",
            "\n",
            "Successful output\n",
            "\n",
            "CPU time: 93.8414 milliseconds\n",
            "GPU time: 6.70042 milliseconds\n",
            "\n",
            "Speedup factor: 14.0053\n",
            "\n",
            "CPU blurring...\n",
            "GPU blurring...\n",
            "No kernel error detected\n",
            "nframes: 1151512nblocks: 200Comparing...\n",
            "\n",
            "Successful output\n",
            "\n",
            "CPU time: 84.3155 milliseconds\n",
            "GPU time: 4.74022 milliseconds\n",
            "\n",
            "Speedup factor: 17.7872\n",
            "\n"
          ],
          "name": "stdout"
        }
      ]
    },
    {
      "cell_type": "code",
      "metadata": {
        "id": "JNvYYRxLcXO9",
        "colab_type": "code",
        "colab": {}
      },
      "source": [
        "%cd /content/gpu_intro/lab2"
      ],
      "execution_count": null,
      "outputs": []
    },
    {
      "cell_type": "code",
      "metadata": {
        "id": "09TflUFKcaGG",
        "colab_type": "code",
        "colab": {}
      },
      "source": [
        "!make -B all"
      ],
      "execution_count": null,
      "outputs": []
    },
    {
      "cell_type": "code",
      "metadata": {
        "id": "yn5Yfn71ceaw",
        "colab_type": "code",
        "colab": {
          "base_uri": "https://localhost:8080/",
          "height": 425
        },
        "outputId": "2d81abc1-c0e9-4f6d-bacc-39f13344fc6c"
      },
      "source": [
        "!./transpose"
      ],
      "execution_count": 47,
      "outputs": [
        {
          "output_type": "stream",
          "text": [
            "Size 512 naive CPU: 1.099456 ms\n",
            "Size 512 GPU memcpy: 0.033760 ms\n",
            "Size 512 naive GPU: 0.058368 ms\n",
            "Size 512 shmem GPU: 0.019456 ms\n",
            "Size 512 optimal GPU: 0.016384 ms\n",
            "\n",
            "Size 1024 naive CPU: 3.780160 ms\n",
            "Size 1024 GPU memcpy: 0.072512 ms\n",
            "Size 1024 naive GPU: 0.181248 ms\n",
            "Size 1024 shmem GPU: 0.065536 ms\n",
            "Size 1024 optimal GPU: 0.063488 ms\n",
            "\n",
            "Size 2048 naive CPU: 41.544735 ms\n",
            "Size 2048 GPU memcpy: 0.256896 ms\n",
            "Size 2048 naive GPU: 0.667648 ms\n",
            "Size 2048 shmem GPU: 0.243712 ms\n",
            "Size 2048 optimal GPU: 0.242688 ms\n",
            "\n",
            "Size 4096 naive CPU: 223.382660 ms\n",
            "Size 4096 GPU memcpy: 0.942560 ms\n",
            "Size 4096 naive GPU: 2.566144 ms\n",
            "Size 4096 shmem GPU: 0.964608 ms\n",
            "Size 4096 optimal GPU: 0.953344 ms\n",
            "\n"
          ],
          "name": "stdout"
        }
      ]
    },
    {
      "cell_type": "code",
      "metadata": {
        "id": "lbUmXBYFcjSm",
        "colab_type": "code",
        "colab": {}
      },
      "source": [
        "%cd /content/gpu_intro/lab3"
      ],
      "execution_count": null,
      "outputs": []
    },
    {
      "cell_type": "code",
      "metadata": {
        "id": "fnP2vm6CclVE",
        "colab_type": "code",
        "colab": {}
      },
      "source": [
        "!make -B all"
      ],
      "execution_count": null,
      "outputs": []
    },
    {
      "cell_type": "code",
      "metadata": {
        "id": "GugVkryyc-Pu",
        "colab_type": "code",
        "colab": {
          "base_uri": "https://localhost:8080/",
          "height": 1000
        },
        "outputId": "efa3a070-b2b7-4c46-b94f-43c4f64621dd"
      },
      "source": [
        "!./noaudio-fft 512 200"
      ],
      "execution_count": 34,
      "outputs": [
        {
          "output_type": "stream",
          "text": [
            "Index of the GPU with the lowest temperature: 0 (0 C)\n",
            "\n",
            "N (number of samples per channel):    10000000\n",
            "\n",
            "Impulse length (number of samples per channel):    2001\n",
            "\n",
            "CPU convolution...\n",
            "GPU convolution...\n",
            "No kernel error detected\n",
            "Comparing...\n",
            "\n",
            "Successful output\n",
            "\n",
            "CPU time (convolve): 59789.1 milliseconds\n",
            "GPU time (convolve): 921.023 milliseconds\n",
            "\n",
            "Speedup factor (convolution): 64.916\n",
            "\n",
            "\n",
            "CPU normalization...\n",
            "GPU normalization...\n",
            "No kernel error detected\n",
            "No kernel error detected\n",
            "\n",
            "CPU normalization constant: 0.504522\n",
            "GPU normalization constant: 0.504522\n",
            "\n",
            "CPU time (normalization): 63.8429 milliseconds\n",
            "GPU time (normalization): 2.51421 milliseconds\n",
            "\n",
            "Speedup factor (normalization): 25.3929\n",
            "\n",
            "\n",
            "\n",
            "\n",
            "CPU convolution...\n",
            "GPU convolution...\n",
            "No kernel error detected\n",
            "Comparing...\n",
            "\n",
            "Successful output\n",
            "\n",
            "CPU time (convolve): 59747.7 milliseconds\n",
            "GPU time (convolve): 616.49 milliseconds\n",
            "\n",
            "Speedup factor (convolution): 96.9159\n",
            "\n",
            "\n",
            "CPU normalization...\n",
            "GPU normalization...\n",
            "No kernel error detected\n",
            "No kernel error detected\n",
            "\n",
            "CPU normalization constant: 0.502063\n",
            "GPU normalization constant: 0.502063\n",
            "\n",
            "CPU time (normalization): 65.2946 milliseconds\n",
            "GPU time (normalization): 1.72365 milliseconds\n",
            "\n",
            "Speedup factor (normalization): 37.8816\n",
            "\n",
            "\n",
            "\n"
          ],
          "name": "stdout"
        }
      ]
    },
    {
      "cell_type": "code",
      "metadata": {
        "id": "9Vz7cRDjdtxc",
        "colab_type": "code",
        "colab": {
          "base_uri": "https://localhost:8080/",
          "height": 1000
        },
        "outputId": "b77fbe9b-24c9-4b12-b547-7b099716e9b0"
      },
      "source": [
        "!./audio-fft 512 200 resources/example_testfile.wav resources/silo_small.wav resources/examples_testfile_silo_out.wav"
      ],
      "execution_count": 33,
      "outputs": [
        {
          "output_type": "stream",
          "text": [
            "Index of the GPU with the lowest temperature: 0 (0 C)\n",
            "\n",
            "N (number of samples per channel):    1375413\n",
            "\n",
            "Impulse length (number of samples per channel):    1014\n",
            "\n",
            "CPU convolution...\n",
            "GPU convolution...\n",
            "No kernel error detected\n",
            "Comparing...\n",
            "\n",
            "Successful output\n",
            "\n",
            "CPU time (convolve): 4213.48 milliseconds\n",
            "GPU time (convolve): 311.634 milliseconds\n",
            "\n",
            "Speedup factor (convolution): 13.5206\n",
            "\n",
            "\n",
            "CPU normalization...\n",
            "GPU normalization...\n",
            "No kernel error detected\n",
            "No kernel error detected\n",
            "\n",
            "CPU normalization constant: 6.75524\n",
            "GPU normalization constant: 6.75524\n",
            "\n",
            "CPU time (normalization): 8.39325 milliseconds\n",
            "GPU time (normalization): 0.612736 milliseconds\n",
            "\n",
            "Speedup factor (normalization): 13.698\n",
            "\n",
            "\n",
            "\n",
            "\n",
            "CPU convolution...\n",
            "GPU convolution...\n",
            "No kernel error detected\n",
            "Comparing...\n",
            "\n",
            "Successful output\n",
            "\n",
            "CPU time (convolve): 4128.18 milliseconds\n",
            "GPU time (convolve): 88.7758 milliseconds\n",
            "\n",
            "Speedup factor (convolution): 46.5012\n",
            "\n",
            "\n",
            "CPU normalization...\n",
            "GPU normalization...\n",
            "No kernel error detected\n",
            "No kernel error detected\n",
            "\n",
            "CPU normalization constant: 7.91163\n",
            "GPU normalization constant: 7.91163\n",
            "\n",
            "CPU time (normalization): 8.53936 milliseconds\n",
            "GPU time (normalization): 0.294976 milliseconds\n",
            "\n",
            "Speedup factor (normalization): 28.9493\n",
            "\n",
            "\n",
            "\n"
          ],
          "name": "stdout"
        }
      ]
    },
    {
      "cell_type": "code",
      "metadata": {
        "id": "tfYRxDkicszv",
        "colab_type": "code",
        "colab": {}
      },
      "source": [
        "%cd /content/gpu_intro/lab5/"
      ],
      "execution_count": null,
      "outputs": []
    },
    {
      "cell_type": "code",
      "metadata": {
        "id": "B43XbWjcc0RG",
        "colab_type": "code",
        "colab": {}
      },
      "source": [
        "%mkdir bin obj"
      ],
      "execution_count": null,
      "outputs": []
    },
    {
      "cell_type": "code",
      "metadata": {
        "id": "RO_q-q_8d7UQ",
        "colab_type": "code",
        "colab": {}
      },
      "source": [
        "!make -B"
      ],
      "execution_count": null,
      "outputs": []
    },
    {
      "cell_type": "code",
      "metadata": {
        "id": "cIoue-yGd776",
        "colab_type": "code",
        "colab": {
          "base_uri": "https://localhost:8080/",
          "height": 1000
        },
        "outputId": "6f98b758-33ae-41bb-9370-084c083f0c2b"
      },
      "source": [
        "!./bin/dense-neuralnet --dir ./data --act relu"
      ],
      "execution_count": 61,
      "outputs": [
        {
          "output_type": "stream",
          "text": [
            "Image Magic        :803                            2051\n",
            "Image Count        :EA60                           60000\n",
            "Image Rows         :1C                              28\n",
            "Image Columns      :1C                              28\n",
            "Label Magic        :801                            2049\n",
            "Label Count        :EA60                           60000\n",
            "Loaded training set.\n",
            "Predicting on 10 classes.\n",
            "Epoch 1\n",
            "--------------------------------------------------------------\n",
            "Loss: 1.52144,\tAccuracy: 0.540883\n",
            "\n",
            "Epoch 2\n",
            "--------------------------------------------------------------\n",
            "Loss: 0.553869,\tAccuracy: 0.85125\n",
            "\n",
            "Epoch 3\n",
            "--------------------------------------------------------------\n",
            "Loss: 0.426515,\tAccuracy: 0.881283\n",
            "\n",
            "Epoch 4\n",
            "--------------------------------------------------------------\n",
            "Loss: 0.381158,\tAccuracy: 0.892416\n",
            "\n",
            "Epoch 5\n",
            "--------------------------------------------------------------\n",
            "Loss: 0.357197,\tAccuracy: 0.898533\n",
            "\n",
            "Epoch 6\n",
            "--------------------------------------------------------------\n",
            "Loss: 0.341855,\tAccuracy: 0.902583\n",
            "\n",
            "Epoch 7\n",
            "--------------------------------------------------------------\n",
            "Loss: 0.330958,\tAccuracy: 0.9058\n",
            "\n",
            "Epoch 8\n",
            "--------------------------------------------------------------\n",
            "Loss: 0.322698,\tAccuracy: 0.908233\n",
            "\n",
            "Epoch 9\n",
            "--------------------------------------------------------------\n",
            "Loss: 0.316133,\tAccuracy: 0.9102\n",
            "\n",
            "Epoch 10\n",
            "--------------------------------------------------------------\n",
            "Loss: 0.310721,\tAccuracy: 0.911633\n",
            "\n",
            "Epoch 11\n",
            "--------------------------------------------------------------\n",
            "Loss: 0.306101,\tAccuracy: 0.913534\n",
            "\n",
            "Epoch 12\n",
            "--------------------------------------------------------------\n",
            "Loss: 0.302055,\tAccuracy: 0.914267\n",
            "\n",
            "Epoch 13\n",
            "--------------------------------------------------------------\n",
            "Loss: 0.298426,\tAccuracy: 0.915433\n",
            "\n",
            "Epoch 14\n",
            "--------------------------------------------------------------\n",
            "Loss: 0.295079,\tAccuracy: 0.916684\n",
            "\n",
            "Epoch 15\n",
            "--------------------------------------------------------------\n",
            "Loss: 0.291918,\tAccuracy: 0.91775\n",
            "\n",
            "Epoch 16\n",
            "--------------------------------------------------------------\n",
            "Loss: 0.288885,\tAccuracy: 0.918683\n",
            "\n",
            "Epoch 17\n",
            "--------------------------------------------------------------\n",
            "Loss: 0.285939,\tAccuracy: 0.919517\n",
            "\n",
            "Epoch 18\n",
            "--------------------------------------------------------------\n",
            "Loss: 0.283032,\tAccuracy: 0.92025\n",
            "\n",
            "Epoch 19\n",
            "--------------------------------------------------------------\n",
            "Loss: 0.28014,\tAccuracy: 0.9208\n",
            "\n",
            "Epoch 20\n",
            "--------------------------------------------------------------\n",
            "Loss: 0.277218,\tAccuracy: 0.92165\n",
            "\n",
            "Epoch 21\n",
            "--------------------------------------------------------------\n",
            "Loss: 0.274246,\tAccuracy: 0.922467\n",
            "\n",
            "Epoch 22\n",
            "--------------------------------------------------------------\n",
            "Loss: 0.271237,\tAccuracy: 0.923333\n",
            "\n",
            "Epoch 23\n",
            "--------------------------------------------------------------\n",
            "Loss: 0.268158,\tAccuracy: 0.92445\n",
            "\n",
            "Epoch 24\n",
            "--------------------------------------------------------------\n",
            "Loss: 0.265057,\tAccuracy: 0.925217\n",
            "\n",
            "Epoch 25\n",
            "--------------------------------------------------------------\n",
            "Loss: 0.26194,\tAccuracy: 0.926267\n",
            "\n",
            "Image Magic        :803                            2051\n",
            "Image Count        :2710                           10000\n",
            "Image Rows         :1C                              28\n",
            "Image Columns      :1C                              28\n",
            "Label Magic        :801                            2049\n",
            "Label Count        :2710                           10000\n",
            "Loaded test set.\n",
            "Validation\n",
            "----------------------------------------------------\n",
            "Loss: 0.26126,\tAccuracy: 0.9258\n",
            "\n"
          ],
          "name": "stdout"
        }
      ]
    },
    {
      "cell_type": "code",
      "metadata": {
        "id": "kJyJDMCrdYzQ",
        "colab_type": "code",
        "colab": {
          "base_uri": "https://localhost:8080/",
          "height": 1000
        },
        "outputId": "1612bc9c-1c45-4901-dcde-16ad2cc0260c"
      },
      "source": [
        "!./bin/conv-neuralnet --dir ./data --act relu"
      ],
      "execution_count": 62,
      "outputs": [
        {
          "output_type": "stream",
          "text": [
            "Image Magic        :803                            2051\n",
            "Image Count        :EA60                           60000\n",
            "Image Rows         :1C                              28\n",
            "Image Columns      :1C                              28\n",
            "Label Magic        :801                            2049\n",
            "Label Count        :EA60                           60000\n",
            "Loaded training set.\n",
            "Predicting on 10 classes.\n",
            "Epoch 1\n",
            "--------------------------------------------------------------\n",
            "Loss: 1.15464,\tAccuracy: 0.641033\n",
            "\n",
            "Epoch 2\n",
            "--------------------------------------------------------------\n",
            "Loss: 0.505788,\tAccuracy: 0.84135\n",
            "\n",
            "Epoch 3\n",
            "--------------------------------------------------------------\n",
            "Loss: 0.398064,\tAccuracy: 0.878183\n",
            "\n",
            "Epoch 4\n",
            "--------------------------------------------------------------\n",
            "Loss: 0.319996,\tAccuracy: 0.9036\n",
            "\n",
            "Epoch 5\n",
            "--------------------------------------------------------------\n",
            "Loss: 0.259562,\tAccuracy: 0.921999\n",
            "\n",
            "Epoch 6\n",
            "--------------------------------------------------------------\n",
            "Loss: 0.218429,\tAccuracy: 0.933801\n",
            "\n",
            "Epoch 7\n",
            "--------------------------------------------------------------\n",
            "Loss: 0.18981,\tAccuracy: 0.94215\n",
            "\n",
            "Epoch 8\n",
            "--------------------------------------------------------------\n",
            "Loss: 0.1688,\tAccuracy: 0.948567\n",
            "\n",
            "Epoch 9\n",
            "--------------------------------------------------------------\n",
            "Loss: 0.152703,\tAccuracy: 0.953167\n",
            "\n",
            "Epoch 10\n",
            "--------------------------------------------------------------\n",
            "Loss: 0.140017,\tAccuracy: 0.957267\n",
            "\n",
            "Epoch 11\n",
            "--------------------------------------------------------------\n",
            "Loss: 0.129792,\tAccuracy: 0.9607\n",
            "\n",
            "Epoch 12\n",
            "--------------------------------------------------------------\n",
            "Loss: 0.121487,\tAccuracy: 0.963166\n",
            "\n",
            "Epoch 13\n",
            "--------------------------------------------------------------\n",
            "Loss: 0.114637,\tAccuracy: 0.965166\n",
            "\n",
            "Epoch 14\n",
            "--------------------------------------------------------------\n",
            "Loss: 0.108951,\tAccuracy: 0.96685\n",
            "\n",
            "Epoch 15\n",
            "--------------------------------------------------------------\n",
            "Loss: 0.104149,\tAccuracy: 0.968633\n",
            "\n",
            "Epoch 16\n",
            "--------------------------------------------------------------\n",
            "Loss: 0.100034,\tAccuracy: 0.970017\n",
            "\n",
            "Epoch 17\n",
            "--------------------------------------------------------------\n",
            "Loss: 0.0964853,\tAccuracy: 0.971101\n",
            "\n",
            "Epoch 18\n",
            "--------------------------------------------------------------\n",
            "Loss: 0.0933461,\tAccuracy: 0.972\n",
            "\n",
            "Epoch 19\n",
            "--------------------------------------------------------------\n",
            "Loss: 0.0905729,\tAccuracy: 0.97285\n",
            "\n",
            "Epoch 20\n",
            "--------------------------------------------------------------\n",
            "Loss: 0.0880897,\tAccuracy: 0.973583\n",
            "\n",
            "Epoch 21\n",
            "--------------------------------------------------------------\n",
            "Loss: 0.0858564,\tAccuracy: 0.97415\n",
            "\n",
            "Epoch 22\n",
            "--------------------------------------------------------------\n",
            "Loss: 0.0838447,\tAccuracy: 0.9747\n",
            "\n",
            "Epoch 23\n",
            "--------------------------------------------------------------\n",
            "Loss: 0.0820102,\tAccuracy: 0.975367\n",
            "\n",
            "Epoch 24\n",
            "--------------------------------------------------------------\n",
            "Loss: 0.0803091,\tAccuracy: 0.9758\n",
            "\n",
            "Epoch 25\n",
            "--------------------------------------------------------------\n",
            "Loss: 0.0787558,\tAccuracy: 0.976416\n",
            "\n",
            "Image Magic        :803                            2051\n",
            "Image Count        :2710                           10000\n",
            "Image Rows         :1C                              28\n",
            "Image Columns      :1C                              28\n",
            "Label Magic        :801                            2049\n",
            "Label Count        :2710                           10000\n",
            "Loaded test set.\n",
            "Validation\n",
            "----------------------------------------------------\n",
            "Loss: 0.0721421,\tAccuracy: 0.9776\n",
            "\n"
          ],
          "name": "stdout"
        }
      ]
    }
  ]
}