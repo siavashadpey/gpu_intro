{
  "nbformat": 4,
  "nbformat_minor": 0,
  "metadata": {
    "colab": {
      "name": "cs179_lec2.ipynb",
      "provenance": [],
      "collapsed_sections": [],
      "authorship_tag": "ABX9TyOH/2TB3xae5hkuItq9RTPN",
      "include_colab_link": true
    },
    "kernelspec": {
      "name": "python3",
      "display_name": "Python 3"
    },
    "accelerator": "GPU"
  },
  "cells": [
    {
      "cell_type": "markdown",
      "metadata": {
        "id": "view-in-github",
        "colab_type": "text"
      },
      "source": [
        "<a href=\"https://colab.research.google.com/github/siavashadpey/gpu_intro/blob/master/cs179_lec2.ipynb\" target=\"_parent\"><img src=\"https://colab.research.google.com/assets/colab-badge.svg\" alt=\"Open In Colab\"/></a>"
      ]
    },
    {
      "cell_type": "code",
      "metadata": {
        "id": "QlDR02hIJNgO",
        "colab_type": "code",
        "colab": {
          "base_uri": "https://localhost:8080/",
          "height": 221
        },
        "outputId": "b3f303ef-4703-4ebf-86c7-19ae7addd87c"
      },
      "source": [
        "!pip install git+git://github.com/andreinechaev/nvcc4jupyter.git\n",
        "%load_ext nvcc_plugin"
      ],
      "execution_count": 2,
      "outputs": [
        {
          "output_type": "stream",
          "text": [
            "Collecting git+git://github.com/andreinechaev/nvcc4jupyter.git\n",
            "  Cloning git://github.com/andreinechaev/nvcc4jupyter.git to /tmp/pip-req-build-a8axwdaz\n",
            "  Running command git clone -q git://github.com/andreinechaev/nvcc4jupyter.git /tmp/pip-req-build-a8axwdaz\n",
            "Building wheels for collected packages: NVCCPlugin\n",
            "  Building wheel for NVCCPlugin (setup.py) ... \u001b[?25l\u001b[?25hdone\n",
            "  Created wheel for NVCCPlugin: filename=NVCCPlugin-0.0.2-cp36-none-any.whl size=4307 sha256=1af6c0512d210778f534a458ea244afa60f8c3c6bfd6fddfbff29bbffc59b266\n",
            "  Stored in directory: /tmp/pip-ephem-wheel-cache-bxpp8cv_/wheels/10/c2/05/ca241da37bff77d60d31a9174f988109c61ba989e4d4650516\n",
            "Successfully built NVCCPlugin\n",
            "Installing collected packages: NVCCPlugin\n",
            "Successfully installed NVCCPlugin-0.0.2\n",
            "created output directory at /content/src\n",
            "Out bin /content/result.out\n"
          ],
          "name": "stdout"
        }
      ]
    },
    {
      "cell_type": "code",
      "metadata": {
        "id": "71WEUaKBJTfp",
        "colab_type": "code",
        "colab": {
          "base_uri": "https://localhost:8080/",
          "height": 34
        },
        "outputId": "9ab2d081-9bf2-4885-e1ee-86ceeab6df48"
      },
      "source": [
        "%%cu\n",
        "#include <stdio.h>\n",
        "#include <stdlib.h>\n",
        "#include <assert.h> \n",
        "\n",
        "__global__ void cudaAddVectorKernel(const float *a, const float *b, \n",
        "                                    float *c, const int size)\n",
        "{\n",
        "    const int idx =  blockIdx.x * blockDim.x + threadIdx.x;\n",
        "    \n",
        "    if (idx < size) {\n",
        "        c[idx] = a[idx] + b[idx];\n",
        "    }\n",
        "}\n",
        "\n",
        "int main(int argc, char **argv) {\n",
        "    const int per_block_thread_count = 1024;\n",
        "\n",
        "    // host memory\n",
        "    const int array_size = 1024;\n",
        "    float *a = new float[array_size];\n",
        "    float *b = new float[array_size];\n",
        "    float *c = new float[array_size];\n",
        "\n",
        "    for (int i=0; i<array_size; i++) {\n",
        "        a[i] = i;\n",
        "        b[i] = array_size - i;\n",
        "    }\n",
        "\n",
        "    // device memory \n",
        "    float *d_a; \n",
        "    float *d_b;\n",
        "    float *d_c;\n",
        "    cudaMalloc((void**) &d_a, array_size*sizeof(float));\n",
        "    cudaMalloc((void**) &d_b, array_size*sizeof(float));\n",
        "    cudaMalloc((void**) &d_c, array_size*sizeof(float));\n",
        "\n",
        "    // copy input variables from host to device\n",
        "    cudaMemcpy(d_a, a, array_size*sizeof(float), cudaMemcpyHostToDevice);\n",
        "    cudaMemcpy(d_b, b, array_size*sizeof(float), cudaMemcpyHostToDevice);\n",
        "\n",
        "    // call kernel\n",
        "    const int block_count = 1; // array_size is equal to thread_count/block\n",
        "    cudaAddVectorKernel<<<block_count, per_block_thread_count>>>(d_a, d_b, d_c, array_size);\n",
        "\n",
        "    // copy output variable from device to host\n",
        "    cudaMemcpy(c, d_c, array_size*sizeof(float), cudaMemcpyDeviceToHost);\n",
        "\n",
        "    // check result\n",
        "    for (int i = 0; i < array_size; i++) {\n",
        "        //printf(\"%d: %f \\n\", i, c[i]);\n",
        "        assert(c[i] == float(array_size));\n",
        "    }\n",
        "\n",
        "    printf(\"All is good!\");\n",
        "\n",
        "    // free device memory\n",
        "    cudaFree(d_a);\n",
        "    cudaFree(d_b);\n",
        "    cudaFree(d_c);\n",
        "\n",
        "    return 0;\n",
        "}\n",
        "\n"
      ],
      "execution_count": 23,
      "outputs": [
        {
          "output_type": "stream",
          "text": [
            "All is good!\n"
          ],
          "name": "stdout"
        }
      ]
    },
    {
      "cell_type": "code",
      "metadata": {
        "id": "408-M5iTNYH2",
        "colab_type": "code",
        "colab": {
          "base_uri": "https://localhost:8080/",
          "height": 51
        },
        "outputId": "a008ad80-c889-4fdb-bb17-910c561333c5"
      },
      "source": [
        "%%cu\n",
        "#include <stdio.h>\n",
        "#include <stdlib.h>\n",
        "__global__ void add(int *a, int *b, int *c) {\n",
        "*c = *a + *b;\n",
        "}\n",
        "int main() {\n",
        "int a, b, c;\n",
        "// host copies of variables a, b & c\n",
        "int *d_a, *d_b, *d_c;\n",
        "// device copies of variables a, b & c\n",
        "int size = sizeof(int);\n",
        "// Allocate space for device copies of a, b, c\n",
        "cudaMalloc((void **)&d_a, size);\n",
        "cudaMalloc((void **)&d_b, size);\n",
        "cudaMalloc((void **)&d_c, size);\n",
        "// Setup input values  \n",
        "c = 0;\n",
        "a = 3;\n",
        "b = 5;\n",
        "// Copy inputs to device\n",
        "cudaMemcpy(d_a, &a, size, cudaMemcpyHostToDevice);\n",
        "  cudaMemcpy(d_b, &b, size, cudaMemcpyHostToDevice);\n",
        "// Launch add() kernel on GPU\n",
        "add<<<1,1>>>(d_a, d_b, d_c);\n",
        "// Copy result back to host\n",
        "cudaError err = cudaMemcpy(&c, d_c, size, cudaMemcpyDeviceToHost);\n",
        "  if(err!=cudaSuccess) {\n",
        "      printf(\"CUDA error copying to Host: %s\\n\", cudaGetErrorString(err));\n",
        "  }\n",
        "printf(\"result is %d. It should be %d. \\n\",c, a+b);\n",
        "// Cleanup\n",
        "cudaFree(d_a);\n",
        "cudaFree(d_b);\n",
        "cudaFree(d_c);\n",
        "return 0;\n",
        "}"
      ],
      "execution_count": 7,
      "outputs": [
        {
          "output_type": "stream",
          "text": [
            "result is 8. It should be 8. \n",
            "\n"
          ],
          "name": "stdout"
        }
      ]
    }
  ]
}